{
 "cells": [
  {
   "cell_type": "markdown",
   "metadata": {},
   "source": [
    "### Find all white points"
   ]
  },
  {
   "cell_type": "code",
   "execution_count": 1,
   "metadata": {},
   "outputs": [],
   "source": [
    "import numpy as np\n",
    "import cv2\n",
    "\n",
    "img = cv2.imread(\"waypoint.png\", 1)\n",
    "\n",
    "white_cnt = []\n",
    "w, h, _ = img.shape\n",
    "\n",
    "\n",
    "for i in range(w):\n",
    "    for j in range(h):\n",
    "        pt = img[i][j]\n",
    "        \n",
    "        if (pt == np.array([255, 255, 255])).all():\n",
    "            white_cnt.append([i,j])\n",
    "            # img[i][j] = np.array([0, 0, 255])\n",
    "\n",
    "# print(len(white_cnt))"
   ]
  },
  {
   "cell_type": "markdown",
   "metadata": {},
   "source": [
    "### start point and end point"
   ]
  },
  {
   "cell_type": "code",
   "execution_count": 2,
   "metadata": {},
   "outputs": [],
   "source": [
    "start = [596, 1067]\n",
    "end = [447, 1261]"
   ]
  },
  {
   "cell_type": "markdown",
   "metadata": {},
   "source": [
    "### Find path"
   ]
  },
  {
   "cell_type": "code",
   "execution_count": 3,
   "metadata": {},
   "outputs": [
    {
     "name": "stdout",
     "output_type": "stream",
     "text": [
      "Get!!!\n",
      "0\n",
      "[[596, 1067], [592, 1067], [591, 1067], [588, 1067], [587, 1067], [585, 1067], [583, 1067], [581, 1067], [579, 1067], [578, 1067], [574, 1068], [571, 1068], [567, 1069], [563, 1069], [560, 1070], [556, 1071], [553, 1072], [549, 1073], [546, 1074], [543, 1075], [539, 1076], [536, 1077], [533, 1079], [529, 1080], [526, 1082], [523, 1083], [520, 1085], [516, 1087], [513, 1088], [510, 1090], [507, 1092], [504, 1094], [501, 1096], [498, 1098], [495, 1101], [493, 1103], [490, 1105], [487, 1108], [484, 1110], [482, 1113], [479, 1115], [477, 1118], [475, 1120], [472, 1123], [470, 1126], [468, 1128], [466, 1131], [464, 1134], [463, 1137], [461, 1140], [459, 1143], [458, 1146], [456, 1150], [455, 1153], [454, 1156], [453, 1159], [452, 1163], [451, 1166], [450, 1169], [449, 1173], [448, 1176], [448, 1180], [447, 1184], [447, 1188], [447, 1192], [447, 1196], [447, 1200], [447, 1204], [447, 1205], [447, 1209], [447, 1213], [447, 1217], [447, 1221], [447, 1225], [447, 1229], [447, 1233], [447, 1237], [447, 1241], [447, 1245], [447, 1249], [447, 1253], [447, 1257], [447, 1261]]\n"
     ]
    }
   ],
   "source": [
    "import queue\n",
    "\n",
    "cache = queue.Queue()\n",
    "cache.put([start])\n",
    "\n",
    "final_path = []\n",
    "\n",
    "while not cache.empty():\n",
    "    \n",
    "    parent_path = cache.get()\n",
    "    candidates = []\n",
    "\n",
    "    for white in white_cnt:\n",
    "        \n",
    "        last_point = parent_path[-1]\n",
    "        # print(parent_path)\n",
    "\n",
    "        new_x = last_point[0] - white[0]\n",
    "        new_y = last_point[1] - white[1]\n",
    "        dis = (new_x**2 + new_y**2)**0.5\n",
    "\n",
    "        # if white point have existed in the path\n",
    "        if white in parent_path:\n",
    "            continue\n",
    "\n",
    "        curr_dis2end = ((last_point[0] - end[0])**2 + (last_point[1] - end[1])**2)**0.5\n",
    "        next_dis2end = ((white[0] - end[0])**2 + (white[1] - end[1])**2)**0.5\n",
    "\n",
    "        path = parent_path.copy()\n",
    "        path.append(white)\n",
    "\n",
    "        if dis < 5 and next_dis2end < 2:\n",
    "            print(\"Get!!!\")\n",
    "            final_path.append(path)\n",
    "            cache = queue.Queue()\n",
    "            candidates = []\n",
    "            break\n",
    "            \n",
    "    \n",
    "        if dis < 5 and next_dis2end < curr_dis2end:\n",
    "            candidates.append(path)\n",
    "            # cache.put(new_path)\n",
    "\n",
    "    # select one path from all candidate paths, then add to the cache\n",
    "    # print(\"=\"*20)\n",
    "    # for p in candidates:\n",
    "    #     print(p)\n",
    "    # print(\"=\"*20)\n",
    "\n",
    "    if len(candidates) > 0:\n",
    "        win_path = candidates[0]\n",
    "        for p in candidates[1:]:\n",
    "            tp = p[-1]\n",
    "            cur_s2tp = ((tp[0] - start[0])**2 + (tp[1] - start[1])**2)**0.5\n",
    "            cur_tp2e = ((tp[0] - end[0])**2 + (tp[1] - end[1])**2)**0.5\n",
    "            cur_total = cur_s2tp + cur_tp2e\n",
    "\n",
    "            tp2 = win_path[-1]\n",
    "            pre_s2tp = ((tp2[0] - start[0])**2 + (tp2[1] - start[1])**2)**0.5\n",
    "            pre_tp2e = ((tp2[0] - end[0])**2 + (tp2[1] - end[1])**2)**0.5\n",
    "            pre_total = pre_s2tp + pre_tp2e\n",
    "\n",
    "            if cur_total < pre_total:\n",
    "                win_path = p\n",
    "\n",
    "        cache.put(win_path)\n",
    "\n",
    "    \n",
    "\n",
    "for i, p in enumerate(final_path):\n",
    "    print(p)\n"
   ]
  },
  {
   "cell_type": "markdown",
   "metadata": {},
   "source": [
    "### Draw waypoint"
   ]
  },
  {
   "cell_type": "code",
   "execution_count": 4,
   "metadata": {},
   "outputs": [],
   "source": [
    "final_img = img\n",
    "for x, y in final_path[0]:\n",
    "    final_img[x][y] = np.array([255, 255, 0])\n",
    "    \n",
    "\n",
    "final_img[start[0]][[start[1]]] = np.array([255, 0, 255])\n",
    "final_img[end[0]][[end[1]]] = np.array([255, 0, 255])\n",
    "\n",
    "cv2.imwrite(\"result.png\", final_img)\n",
    "cv2.imshow(' ', final_img)\n",
    "cv2.waitKey()\n",
    "cv2.destroyAllWindows()"
   ]
  },
  {
   "cell_type": "code",
   "execution_count": null,
   "metadata": {},
   "outputs": [],
   "source": []
  }
 ],
 "metadata": {
  "kernelspec": {
   "display_name": "Python 3",
   "language": "python",
   "name": "python3"
  },
  "language_info": {
   "codemirror_mode": {
    "name": "ipython",
    "version": 3
   },
   "file_extension": ".py",
   "mimetype": "text/x-python",
   "name": "python",
   "nbconvert_exporter": "python",
   "pygments_lexer": "ipython3",
   "version": "3.10.5"
  },
  "orig_nbformat": 4
 },
 "nbformat": 4,
 "nbformat_minor": 2
}
